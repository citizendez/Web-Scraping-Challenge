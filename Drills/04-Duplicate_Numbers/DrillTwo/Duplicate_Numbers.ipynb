{
 "cells": [
  {
   "cell_type": "markdown",
   "metadata": {},
   "source": [
    "# Duplicate Numbers\n",
    "\n",
    "#### Challenge 1: Print all numbers with duplicates\n",
    "#### Challenge 2: Print only the numbers that were seen once\n",
    "#### Challenge 3: Count the number of duplicates"
   ]
  },
  {
   "cell_type": "code",
   "execution_count": null,
   "metadata": {},
   "outputs": [],
   "source": [
    "numbers = [1, 6, 6, 3, 3, 3, 4]"
   ]
  },
  {
   "cell_type": "markdown",
   "metadata": {},
   "source": [
    "### YOUR CODE HERE"
   ]
  },
  {
   "cell_type": "code",
   "execution_count": 3,
   "metadata": {},
   "outputs": [
    {
     "name": "stdout",
     "output_type": "stream",
     "text": [
      "{3, 6}\n"
     ]
    }
   ],
   "source": [
    "numbers = [1, 6, 6, 3, 3, 3, 4]\n",
    "\n",
    "dups = []\n",
    "for num in numbers:\n",
    "    occur = 0\n",
    "    for numx in numbers:\n",
    "        if num == numx:\n",
    "            occur = occur + 1\n",
    "        if occur > 1:\n",
    "            dups.append(num)\n",
    "            break\n",
    "dups = set(dups)\n",
    "print(dups)"
   ]
  },
  {
   "cell_type": "code",
   "execution_count": 6,
   "metadata": {},
   "outputs": [
    {
     "name": "stdout",
     "output_type": "stream",
     "text": [
      "[1, 4]\n"
     ]
    }
   ],
   "source": [
    "numbers = [1, 6, 6, 3, 3, 3, 4]\n",
    "singles = []\n",
    "dups = []\n",
    "for num in numbers:\n",
    "    occur = 0\n",
    "    for numx in numbers:\n",
    "        if num == numx:\n",
    "            occur = occur + 1\n",
    "        if occur > 1:\n",
    "            dups.append(num)\n",
    "            break\n",
    "    if occur == 1:\n",
    "        singles.append(num)\n",
    "dups = set(dups)\n",
    "print(singles)"
   ]
  },
  {
   "cell_type": "code",
   "execution_count": 7,
   "metadata": {},
   "outputs": [
    {
     "data": {
      "text/plain": [
       "2"
      ]
     },
     "execution_count": 7,
     "metadata": {},
     "output_type": "execute_result"
    }
   ],
   "source": [
    "len(dups)"
   ]
  }
 ],
 "metadata": {
  "kernelspec": {
   "display_name": "Python 3",
   "language": "python",
   "name": "python3"
  },
  "language_info": {
   "codemirror_mode": {
    "name": "ipython",
    "version": 3
   },
   "file_extension": ".py",
   "mimetype": "text/x-python",
   "name": "python",
   "nbconvert_exporter": "python",
   "pygments_lexer": "ipython3",
   "version": "3.8.3"
  },
  "varInspector": {
   "cols": {
    "lenName": 16,
    "lenType": 16,
    "lenVar": 40
   },
   "kernels_config": {
    "python": {
     "delete_cmd_postfix": "",
     "delete_cmd_prefix": "del ",
     "library": "var_list.py",
     "varRefreshCmd": "print(var_dic_list())"
    },
    "r": {
     "delete_cmd_postfix": ") ",
     "delete_cmd_prefix": "rm(",
     "library": "var_list.r",
     "varRefreshCmd": "cat(var_dic_list()) "
    }
   },
   "types_to_exclude": [
    "module",
    "function",
    "builtin_function_or_method",
    "instance",
    "_Feature"
   ],
   "window_display": false
  }
 },
 "nbformat": 4,
 "nbformat_minor": 2
}
